{
  "nbformat": 4,
  "nbformat_minor": 0,
  "metadata": {
    "colab": {
      "name": "HMM Forward Backward.ipynb",
      "provenance": [],
      "collapsed_sections": []
    },
    "kernelspec": {
      "name": "python3",
      "display_name": "Python 3"
    },
    "language_info": {
      "name": "python"
    }
  },
  "cells": [
    {
      "cell_type": "code",
      "execution_count": 17,
      "metadata": {
        "id": "0usKbLm0QmVR"
      },
      "outputs": [],
      "source": [
        "# learning material: http://www.adeveloperdiary.com/data-science/machine-learning/forward-and-backward-algorithm-in-hidden-markov-model/\n",
        "# i modified the code slightly so it can handle end state\n",
        "import numpy as np\n",
        "\n",
        "# transition probability\n",
        "a = np.array(((0.367, 0.333),(0.333, 0.3)))\n",
        "\n",
        "# emission probability\n",
        "b = np.array(((0.3, 0.7), (0.35, 0.65)))\n",
        "\n",
        "# probability from start state to M and F\n",
        "init_transition_prob = np.array((0.7, 0.3))\n",
        "\n",
        "# probability from M and F to end state\n",
        "final_transition_prob = np.array((0.3, 0.367))\n",
        "\n",
        "# observation (0 is sad, 1 is happy)\n",
        "V = np.array((0,0,1))"
      ]
    },
    {
      "cell_type": "code",
      "source": [
        "a"
      ],
      "metadata": {
        "colab": {
          "base_uri": "https://localhost:8080/"
        },
        "id": "xCUIqh0S73Fe",
        "outputId": "95f314c9-ad3c-4388-c809-b29fc1b58e46"
      },
      "execution_count": 3,
      "outputs": [
        {
          "output_type": "execute_result",
          "data": {
            "text/plain": [
              "array([[0.367, 0.333],\n",
              "       [0.333, 0.3  ]])"
            ]
          },
          "metadata": {},
          "execution_count": 3
        }
      ]
    },
    {
      "cell_type": "code",
      "source": [
        "b"
      ],
      "metadata": {
        "colab": {
          "base_uri": "https://localhost:8080/"
        },
        "id": "4nlvALG_74FV",
        "outputId": "d6ca354f-1ebc-4a7d-cc2e-c8f8062a1112"
      },
      "execution_count": 4,
      "outputs": [
        {
          "output_type": "execute_result",
          "data": {
            "text/plain": [
              "array([[0.3 , 0.7 ],\n",
              "       [0.35, 0.65]])"
            ]
          },
          "metadata": {},
          "execution_count": 4
        }
      ]
    },
    {
      "cell_type": "code",
      "source": [
        "init_transition_prob"
      ],
      "metadata": {
        "colab": {
          "base_uri": "https://localhost:8080/"
        },
        "id": "Vt-Ncc-A75dN",
        "outputId": "cfaffffb-634e-474b-f977-c84f824b7110"
      },
      "execution_count": 14,
      "outputs": [
        {
          "output_type": "execute_result",
          "data": {
            "text/plain": [
              "array([0.7, 0.3])"
            ]
          },
          "metadata": {},
          "execution_count": 14
        }
      ]
    },
    {
      "cell_type": "code",
      "source": [
        "final_transition_prob"
      ],
      "metadata": {
        "colab": {
          "base_uri": "https://localhost:8080/"
        },
        "id": "8ImR_Lxlfaaj",
        "outputId": "39b13646-c256-4bdf-e7fa-3c87a14b6a37"
      },
      "execution_count": 18,
      "outputs": [
        {
          "output_type": "execute_result",
          "data": {
            "text/plain": [
              "array([0.3  , 0.367])"
            ]
          },
          "metadata": {},
          "execution_count": 18
        }
      ]
    },
    {
      "cell_type": "code",
      "source": [
        "def forward(V, a, b, init_transition_prob, final_transition_prob):\n",
        "    alpha = np.zeros((V.shape[0], a.shape[0]))\n",
        "    alpha[0, :] = init_transition_prob * b[:, V[0]]\n",
        " \n",
        "    for t in range(1, V.shape[0]):\n",
        "        for j in range(a.shape[0]):\n",
        "            # Matrix Computation Steps\n",
        "            #                  ((1x2) . (1x2))      *     (1)\n",
        "            #                        (1)            *     (1)\n",
        "            alpha[t, j] = alpha[t - 1].dot(a[:, j]) * b[j, V[t]]\n",
        " \n",
        "    return alpha, np.sum(alpha[-1] * final_transition_prob)\n",
        " \n",
        "alpha, P = forward(V, a, b, init_transition_prob, final_transition_prob)\n",
        "print(\"alpha (left is Mother, right is Father, row is alpha 1 to alpha 3 respectively)\\n\", alpha)\n",
        "print(P)"
      ],
      "metadata": {
        "colab": {
          "base_uri": "https://localhost:8080/"
        },
        "id": "WOXnmZphRQ63",
        "outputId": "16be84bf-66e0-460c-e0c8-d96e31c87973"
      },
      "execution_count": 29,
      "outputs": [
        {
          "output_type": "stream",
          "name": "stdout",
          "text": [
            "alpha (left is Mother, right is Father, row is alpha 1 to alpha 3 respectively)\n",
            " [[0.21       0.105     ]\n",
            " [0.0336105  0.0355005 ]\n",
            " [0.0169097  0.01419759]]\n",
            "0.010283426812574999\n"
          ]
        }
      ]
    },
    {
      "cell_type": "code",
      "source": [
        "def backward(V, a, b, init_transition_prob, final_transition_prob):\n",
        "    beta = np.zeros((V.shape[0], a.shape[0]))\n",
        " \n",
        "    # setting beta(T) = 1\n",
        "    beta[V.shape[0] - 1] = final_transition_prob\n",
        " \n",
        "    # Loop in backward way from T-1 to\n",
        "    # Due to python indexing the actual loop will be T-2 to 0\n",
        "    for t in range(V.shape[0] - 2, -1, -1):\n",
        "        for j in range(a.shape[0]):\n",
        "            beta[t, j] = (beta[t + 1] * b[:, V[t + 1]]).dot(a[j, :])\n",
        "    \n",
        "    return beta, np.sum(beta[0] * init_transition_prob * b.T[V[0]])\n",
        " \n",
        "beta, P = backward(V, a, b, init_transition_prob, final_transition_prob)\n",
        "print(\"beta (left is Mother, right is Father, row is beta 3 to beta 1 respectively)\\n\", beta)\n",
        "print(P)"
      ],
      "metadata": {
        "colab": {
          "base_uri": "https://localhost:8080/"
        },
        "id": "lUSct7HER1Zv",
        "outputId": "6140469d-d8b3-4966-e5d4-1664a5387d2d"
      },
      "execution_count": 28,
      "outputs": [
        {
          "output_type": "stream",
          "name": "stdout",
          "text": [
            "beta (left is Mother, right is Father, row is beta 3 to beta 1 respectively)\n",
            " [[0.03372268 0.03049204]\n",
            " [0.15650715 0.141495  ]\n",
            " [0.3        0.367     ]]\n",
            "0.010283426812574999\n"
          ]
        }
      ]
    }
  ]
}